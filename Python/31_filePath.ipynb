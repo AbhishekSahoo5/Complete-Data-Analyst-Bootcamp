{
 "cells": [
  {
   "cell_type": "markdown",
   "metadata": {},
   "source": [
    "#### Working With File Paths\n",
    "When working with files in Python, handling file paths correctly is crucial to ensure your code works across different operating systems and environments. Python provides several modules and functions for working with file paths effectively."
   ]
  },
  {
   "cell_type": "code",
   "execution_count": 1,
   "metadata": {},
   "outputs": [
    {
     "name": "stdout",
     "output_type": "stream",
     "text": [
      "Current working directory is e:\\Data Analytics Bootcamp\\Complete-Data-Analyst-Bootcamp\\Python\n"
     ]
    }
   ],
   "source": [
    "#### Using the os module\n",
    "import os\n",
    "\n",
    "# To get current working directory\n",
    "cwd=os.getcwd()\n",
    "print(f\"Current working directory is {cwd}\")"
   ]
  },
  {
   "cell_type": "code",
   "execution_count": 2,
   "metadata": {},
   "outputs": [
    {
     "name": "stdout",
     "output_type": "stream",
     "text": [
      "Directory '31_package' create\n"
     ]
    }
   ],
   "source": [
    "## create a new directory\n",
    "new_directory=\"31_package\"\n",
    "os.mkdir(new_directory)\n",
    "print(f\"Directory '{new_directory}' create\")\n"
   ]
  },
  {
   "cell_type": "code",
   "execution_count": 3,
   "metadata": {},
   "outputs": [
    {
     "name": "stdout",
     "output_type": "stream",
     "text": [
      "['05_BasicSyntaxAndSemantics.ipynb', '06_VariablesInPython.ipynb', '07_DataTypes.ipynb', '08_OperatorsInPython.ipynb', '09_PythonBasicsAssignment.ipynb', '10_CoditionalStmt.ipynb', '11_loops.ipynb', '12_ControlFlowAssignment.ipynb', '13_listAndListComprehension.ipynb', '14_ListAssignment.ipynb', '15_Tuples.ipynb', '16_TuplesAssignment.ipynb', '17_Sets.ipynb', '18_SetsAssignments.ipynb', '19_Dictionaries.ipynb', '20_DictionariesAssignment.ipynb', '21_realWorldExamplesUsingList.ipynb', '22.Functions.ipynb', '23_moreFunctions.ipynb', '24_lambdaFunctions.ipynb', '25_mapFunction.ipynb', '26_filterFunction.ipynb', '27_FunctionsAssignment.ipynb', '28_importModulesAndPackages.ipynb', '28_test.py', '29_destination.txt', '29_example.csv', '29_source.txt', '29_standardLibrarirs.ipynb', '30_destination.txt', '30_example.bin', '30_example.txt', '30_fileOperation.ipynb', '31_filePath.ipynb', '31_package', 'customePackage', 'sample.txt', 'test.dir']\n"
     ]
    }
   ],
   "source": [
    "# Listing files and Directories\n",
    "items=os.listdir('.')\n",
    "print(items)"
   ]
  },
  {
   "cell_type": "code",
   "execution_count": 4,
   "metadata": {},
   "outputs": [
    {
     "name": "stdout",
     "output_type": "stream",
     "text": [
      "folder\\file.txt\n"
     ]
    }
   ],
   "source": [
    "# Joining Paths\n",
    "dir_name=\"folder\"\n",
    "file_name=\"file.txt\" \n",
    "full_path=os.path.join(dir_name,file_name)      # to get reelative path\n",
    "print(full_path)"
   ]
  },
  {
   "cell_type": "code",
   "execution_count": 11,
   "metadata": {},
   "outputs": [
    {
     "name": "stdout",
     "output_type": "stream",
     "text": [
      "e:\\Data Analytics Bootcamp\\Complete-Data-Analyst-Bootcamp\\Python\\folder\\file.txt\n"
     ]
    }
   ],
   "source": [
    "dir_name=\"folder\"\n",
    "file_name=\"file.txt\"\n",
    "full_path=os.path.join(os.getcwd(),dir_name,file_name)    # to get absolute path\n",
    "\n",
    "print(full_path)"
   ]
  },
  {
   "cell_type": "code",
   "execution_count": 6,
   "metadata": {},
   "outputs": [
    {
     "name": "stdout",
     "output_type": "stream",
     "text": [
      "The path 'example1.txt' does not exists\n"
     ]
    }
   ],
   "source": [
    "path='example1.txt'\n",
    "if os.path.exists(path):\n",
    "    print(f\"The path '{path}' exists\")\n",
    "\n",
    "else:\n",
    "    print(f\"The path '{path}' does not exists\")"
   ]
  },
  {
   "cell_type": "code",
   "execution_count": 9,
   "metadata": {},
   "outputs": [
    {
     "name": "stdout",
     "output_type": "stream",
     "text": [
      "The path 'example.txt' is neither a file nor a directory.\n"
     ]
    }
   ],
   "source": [
    "# Checking if a path is a file or Directory\n",
    "\n",
    "\n",
    "path = 'example.txt'\n",
    "if os.path.isfile(path):\n",
    "    print(f\"The path '{path}' is a file.\")\n",
    "elif os.path.isdir(path):\n",
    "    print(f\"The path '{path}' is a directory.\")\n",
    "else:\n",
    "    print(f\"The path '{path}' is neither a file nor a directory.\")"
   ]
  },
  {
   "cell_type": "code",
   "execution_count": 10,
   "metadata": {},
   "outputs": [
    {
     "name": "stdout",
     "output_type": "stream",
     "text": [
      "e:\\Data Analytics Bootcamp\\Complete-Data-Analyst-Bootcamp\\Python\\example.txt\n"
     ]
    }
   ],
   "source": [
    "# Getting the absolute path\n",
    "\n",
    "relative_path='example.txt'\n",
    "absolute_path=os.path.abspath(relative_path)\n",
    "print(absolute_path)\n"
   ]
  },
  {
   "cell_type": "code",
   "execution_count": null,
   "metadata": {},
   "outputs": [],
   "source": []
  }
 ],
 "metadata": {
  "kernelspec": {
   "display_name": "base",
   "language": "python",
   "name": "python3"
  },
  "language_info": {
   "codemirror_mode": {
    "name": "ipython",
    "version": 3
   },
   "file_extension": ".py",
   "mimetype": "text/x-python",
   "name": "python",
   "nbconvert_exporter": "python",
   "pygments_lexer": "ipython3",
   "version": "3.12.4"
  }
 },
 "nbformat": 4,
 "nbformat_minor": 2
}
